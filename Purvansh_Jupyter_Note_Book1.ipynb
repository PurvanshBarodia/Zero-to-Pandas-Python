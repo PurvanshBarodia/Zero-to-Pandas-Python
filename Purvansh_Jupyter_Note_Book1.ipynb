{
 "cells": [
  {
   "cell_type": "code",
   "execution_count": 1,
   "metadata": {},
   "outputs": [],
   "source": [
    "import os\n",
    "os.makedirs('./data', exist_ok = True)"
   ]
  },
  {
   "cell_type": "code",
   "execution_count": 2,
   "metadata": {},
   "outputs": [],
   "source": [
    "url1 = 'https://gist.githubusercontent.com/aakashns/257f6e6c8719c17d0e498ea287d1a386/raw/7def9ef4234ddf0bc82f855ad67dac8b971852ef/loans1.txt'\n",
    "url2 = 'https://gist.githubusercontent.com/aakashns/257f6e6c8719c17d0e498ea287d1a386/raw/7def9ef4234ddf0bc82f855ad67dac8b971852ef/loans2.txt'\n",
    "url3 = 'https://gist.githubusercontent.com/aakashns/257f6e6c8719c17d0e498ea287d1a386/raw/7def9ef4234ddf0bc82f855ad67dac8b971852ef/loans3.txt'"
   ]
  },
  {
   "cell_type": "code",
   "execution_count": 3,
   "metadata": {},
   "outputs": [
    {
     "data": {
      "text/plain": [
       "('./data/loans1.txt', <http.client.HTTPMessage at 0x7f7c077fa040>)"
      ]
     },
     "execution_count": 3,
     "metadata": {},
     "output_type": "execute_result"
    }
   ],
   "source": [
    "import urllib.request as url\n",
    "url.urlretrieve (url1, './data/loans1.txt')"
   ]
  },
  {
   "cell_type": "code",
   "execution_count": 4,
   "metadata": {},
   "outputs": [
    {
     "data": {
      "text/plain": [
       "('./data/loans2.txt', <http.client.HTTPMessage at 0x7f7c06f7e460>)"
      ]
     },
     "execution_count": 4,
     "metadata": {},
     "output_type": "execute_result"
    }
   ],
   "source": [
    "url.urlretrieve (url2, './data/loans2.txt')"
   ]
  },
  {
   "cell_type": "code",
   "execution_count": 5,
   "metadata": {},
   "outputs": [
    {
     "data": {
      "text/plain": [
       "('./data/loans3.txt', <http.client.HTTPMessage at 0x7f7c06f7e2e0>)"
      ]
     },
     "execution_count": 5,
     "metadata": {},
     "output_type": "execute_result"
    }
   ],
   "source": [
    "url.urlretrieve (url3, './data/loans3.txt')"
   ]
  },
  {
   "cell_type": "code",
   "execution_count": 6,
   "metadata": {},
   "outputs": [],
   "source": [
    "# Make a Parse_header Funtion:\n",
    "def parse_header (header_line):\n",
    "    return header_line.strip().split(',')"
   ]
  },
  {
   "cell_type": "code",
   "execution_count": 7,
   "metadata": {},
   "outputs": [],
   "source": [
    "# Make a parse_value Function\n",
    "def parse_value(data_line):\n",
    "    value =[]\n",
    "    for item in data_line.strip().split(','):\n",
    "        if item == '':\n",
    "            value.append(0.0)\n",
    "        else:\n",
    "            value.append(float(item))\n",
    "    return value\n",
    "    "
   ]
  },
  {
   "cell_type": "code",
   "execution_count": 8,
   "metadata": {},
   "outputs": [
    {
     "name": "stdout",
     "output_type": "stream",
     "text": [
      "['amount', 'duration', 'rate', 'down_payment']\n",
      "[883000.0, 16.0, 0.14, 0.0]\n"
     ]
    }
   ],
   "source": [
    "# let's test both function (impovment is needed or not\n",
    "with open('./data/loans3.txt', 'r') as f3:\n",
    "    file3 = f3.readlines()\n",
    "    \n",
    "# check parse_header:\n",
    "header =parse_header(file3[0])\n",
    "print(header)\n",
    "\n",
    "# check parse_value:\n",
    "value2 =parse_value(file3[2])\n",
    "print(value2)\n",
    "\n",
    "    "
   ]
  },
  {
   "cell_type": "markdown",
   "metadata": {},
   "source": [
    " Looks like function `parse_header` and `parse_value` running completly well."
   ]
  },
  {
   "cell_type": "markdown",
   "metadata": {},
   "source": [
    "Now try to make dict which have header as key and value as value `{header : value}` \n",
    "first make only for spaified value of `parse_value` after that you can use `loops`\n"
   ]
  },
  {
   "cell_type": "code",
   "execution_count": 9,
   "metadata": {},
   "outputs": [],
   "source": [
    "def dict1(header,value):\n",
    "    d1 = {}   # declare empty dictonary that will be filled with key-value pair through loop.\n",
    "    for i,j in zip(header,value):\n",
    "        d1[i] = j\n",
    "    return d1\n",
    "        "
   ]
  },
  {
   "cell_type": "markdown",
   "metadata": {},
   "source": [
    " First check what functionality `zip` provides:"
   ]
  },
  {
   "cell_type": "code",
   "execution_count": 10,
   "metadata": {},
   "outputs": [
    {
     "name": "stdout",
     "output_type": "stream",
     "text": [
      "<zip object at 0x7f7c06141900>\n"
     ]
    }
   ],
   "source": [
    "list1 = [1,2,3,4]\n",
    "list2 = [1,4,9,16]\n",
    "use_of_zip = zip(list1,list2)\n",
    "print(use_of_zip)"
   ]
  },
  {
   "cell_type": "code",
   "execution_count": 11,
   "metadata": {},
   "outputs": [
    {
     "data": {
      "text/plain": [
       "{'amount': 883000.0, 'duration': 16.0, 'rate': 0.14, 'down_payment': 0.0}"
      ]
     },
     "execution_count": 11,
     "metadata": {},
     "output_type": "execute_result"
    }
   ],
   "source": [
    "#check dict1:\n",
    "dict1(header,value2)"
   ]
  },
  {
   "cell_type": "markdown",
   "metadata": {},
   "source": [
    "Now make a function that make list of all dictionary having `header:value` pair."
   ]
  },
  {
   "cell_type": "code",
   "execution_count": 12,
   "metadata": {},
   "outputs": [],
   "source": [
    "def read_csv(path):\n",
    "    loan_list =[]\n",
    "    with open(path,'r') as f:\n",
    "        fl = f.readlines()\n",
    "        header = parse_header(fl[0])\n",
    "        for item in fl[1:]:\n",
    "            value = parse_value(item)\n",
    "            dictn = dict1(header,value)\n",
    "            loan_list.append(dictn)\n",
    "    return loan_list\n",
    "    "
   ]
  },
  {
   "cell_type": "markdown",
   "metadata": {},
   "source": [
    " ### Let's Check our final Function: `read_csv`"
   ]
  },
  {
   "cell_type": "code",
   "execution_count": 13,
   "metadata": {},
   "outputs": [
    {
     "data": {
      "text/plain": [
       "[{'amount': 100000.0, 'duration': 36.0, 'rate': 0.08, 'down_payment': 20000.0},\n",
       " {'amount': 200000.0, 'duration': 12.0, 'rate': 0.1, 'down_payment': 0.0},\n",
       " {'amount': 628400.0,\n",
       "  'duration': 120.0,\n",
       "  'rate': 0.12,\n",
       "  'down_payment': 100000.0},\n",
       " {'amount': 4637400.0, 'duration': 240.0, 'rate': 0.06, 'down_payment': 0.0},\n",
       " {'amount': 42900.0, 'duration': 90.0, 'rate': 0.07, 'down_payment': 8900.0},\n",
       " {'amount': 916000.0, 'duration': 16.0, 'rate': 0.13, 'down_payment': 0.0},\n",
       " {'amount': 45230.0, 'duration': 48.0, 'rate': 0.08, 'down_payment': 4300.0},\n",
       " {'amount': 991360.0, 'duration': 99.0, 'rate': 0.08, 'down_payment': 0.0},\n",
       " {'amount': 423000.0, 'duration': 27.0, 'rate': 0.09, 'down_payment': 47200.0}]"
      ]
     },
     "execution_count": 13,
     "metadata": {},
     "output_type": "execute_result"
    }
   ],
   "source": [
    "read_csv('./data/loans1.txt')"
   ]
  },
  {
   "cell_type": "markdown",
   "metadata": {},
   "source": [
    "** It complytly works**"
   ]
  },
  {
   "cell_type": "code",
   "execution_count": 14,
   "metadata": {},
   "outputs": [],
   "source": [
    "# Let's add some documatation\n",
    "def read_csv(path):\n",
    "    '''\n",
    "    Author : `Purvansh`\n",
    "    \n",
    "    What it do?\n",
    "    It read your csv file and convert it into a list of \n",
    "    dict.\n",
    "    \n",
    "    why it's needed?\n",
    "    If you want to perform any analysis you should have\n",
    "    it in form of python datatypes.\n",
    "    \n",
    "    Argument:\n",
    "    Give path of file as it's argument.\n",
    "    it takes only one argument\n",
    "    \n",
    "    \n",
    "    \n",
    "    '''\n",
    "    loan_list =[]\n",
    "    with open(path,'r') as f:\n",
    "        fl = f.readlines()\n",
    "        header = parse_header(fl[0])\n",
    "        for item in fl[1:]:\n",
    "            value = parse_value(item)\n",
    "            dictn = dict1(header,value)\n",
    "            loan_list.append(dictn)\n",
    "    return loan_list\n",
    "    "
   ]
  },
  {
   "cell_type": "code",
   "execution_count": 15,
   "metadata": {},
   "outputs": [
    {
     "name": "stdout",
     "output_type": "stream",
     "text": [
      "Help on function read_csv in module __main__:\n",
      "\n",
      "read_csv(path)\n",
      "    Author : `Purvansh`\n",
      "    \n",
      "    What it do?\n",
      "    It read your csv file and convert it into a list of \n",
      "    dict.\n",
      "    \n",
      "    why it's needed?\n",
      "    If you want to perform any analysis you should have\n",
      "    it in form of python datatypes.\n",
      "    \n",
      "    Argument:\n",
      "    Give path of file as it's argument.\n",
      "    it takes only one argument\n",
      "\n"
     ]
    }
   ],
   "source": [
    "help(read_csv)"
   ]
  },
  {
   "cell_type": "code",
   "execution_count": 16,
   "metadata": {},
   "outputs": [
    {
     "data": {
      "text/plain": [
       "[{'amount': 828400.0,\n",
       "  'duration': 120.0,\n",
       "  'rate': 0.11,\n",
       "  'down_payment': 100000.0},\n",
       " {'amount': 4633400.0, 'duration': 240.0, 'rate': 0.06, 'down_payment': 0.0},\n",
       " {'amount': 42900.0, 'duration': 90.0, 'rate': 0.08, 'down_payment': 8900.0},\n",
       " {'amount': 983000.0, 'duration': 16.0, 'rate': 0.14, 'down_payment': 0.0},\n",
       " {'amount': 15230.0, 'duration': 48.0, 'rate': 0.07, 'down_payment': 4300.0}]"
      ]
     },
     "execution_count": 16,
     "metadata": {},
     "output_type": "execute_result"
    }
   ],
   "source": [
    "read_csv('./data/loans2.txt')"
   ]
  },
  {
   "cell_type": "code",
   "execution_count": 17,
   "metadata": {},
   "outputs": [
    {
     "data": {
      "text/plain": [
       "[{'amount': 45230.0, 'duration': 48.0, 'rate': 0.07, 'down_payment': 4300.0},\n",
       " {'amount': 883000.0, 'duration': 16.0, 'rate': 0.14, 'down_payment': 0.0},\n",
       " {'amount': 100000.0, 'duration': 12.0, 'rate': 0.1, 'down_payment': 0.0},\n",
       " {'amount': 728400.0,\n",
       "  'duration': 120.0,\n",
       "  'rate': 0.12,\n",
       "  'down_payment': 100000.0},\n",
       " {'amount': 3637400.0, 'duration': 240.0, 'rate': 0.06, 'down_payment': 0.0},\n",
       " {'amount': 82900.0, 'duration': 90.0, 'rate': 0.07, 'down_payment': 8900.0},\n",
       " {'amount': 316000.0, 'duration': 16.0, 'rate': 0.13, 'down_payment': 0.0},\n",
       " {'amount': 15230.0, 'duration': 48.0, 'rate': 0.08, 'down_payment': 4300.0},\n",
       " {'amount': 991360.0, 'duration': 99.0, 'rate': 0.08, 'down_payment': 0.0},\n",
       " {'amount': 323000.0,\n",
       "  'duration': 27.0,\n",
       "  'rate': 0.09,\n",
       "  'down_payment': 4720010000.0},\n",
       " {'amount': 528400.0,\n",
       "  'duration': 120.0,\n",
       "  'rate': 0.11,\n",
       "  'down_payment': 100000.0},\n",
       " {'amount': 8633400.0, 'duration': 240.0, 'rate': 0.06, 'down_payment': 0.0},\n",
       " {'amount': 12900.0, 'duration': 90.0, 'rate': 0.08, 'down_payment': 8900.0}]"
      ]
     },
     "execution_count": 17,
     "metadata": {},
     "output_type": "execute_result"
    }
   ],
   "source": [
    "read_csv ('./data/loans3.txt')"
   ]
  },
  {
   "cell_type": "markdown",
   "metadata": {},
   "source": [
    "## Now let's convert it into CSV form in which we got."
   ]
  },
  {
   "cell_type": "code",
   "execution_count": 18,
   "metadata": {},
   "outputs": [],
   "source": [
    "def write_in_csv(path1,path2):\n",
    "    j = read_csv(path1)\n",
    "    with open(path2,'w') as f2:\n",
    "        headers = list(j[0].keys())\n",
    "        f2.write(','.join(headers) +'\\n')\n",
    "        for item in j:\n",
    "            values =[]\n",
    "            for header in headers:\n",
    "                values.append(str(item.get(header,\"\")))\n",
    "            f2.write(','.join(values) +'\\n')"
   ]
  },
  {
   "cell_type": "code",
   "execution_count": 19,
   "metadata": {},
   "outputs": [],
   "source": [
    "write_in_csv('./data/loans3.txt','./data/emis3.txt')"
   ]
  },
  {
   "cell_type": "code",
   "execution_count": 20,
   "metadata": {},
   "outputs": [
    {
     "data": {
      "text/plain": [
       "['amount,duration,rate,down_payment\\n',\n",
       " '45230.0,48.0,0.07,4300.0\\n',\n",
       " '883000.0,16.0,0.14,0.0\\n',\n",
       " '100000.0,12.0,0.1,0.0\\n',\n",
       " '728400.0,120.0,0.12,100000.0\\n',\n",
       " '3637400.0,240.0,0.06,0.0\\n',\n",
       " '82900.0,90.0,0.07,8900.0\\n',\n",
       " '316000.0,16.0,0.13,0.0\\n',\n",
       " '15230.0,48.0,0.08,4300.0\\n',\n",
       " '991360.0,99.0,0.08,0.0\\n',\n",
       " '323000.0,27.0,0.09,4720010000.0\\n',\n",
       " '528400.0,120.0,0.11,100000.0\\n',\n",
       " '8633400.0,240.0,0.06,0.0\\n',\n",
       " '12900.0,90.0,0.08,8900.0\\n']"
      ]
     },
     "execution_count": 20,
     "metadata": {},
     "output_type": "execute_result"
    }
   ],
   "source": [
    "with open('./data/emis3.txt','r') as f3:\n",
    "     line =f3.readlines()\n",
    "line"
   ]
  },
  {
   "cell_type": "code",
   "execution_count": 22,
   "metadata": {},
   "outputs": [
    {
     "data": {
      "text/plain": [
       "{'amount': [100000.0],\n",
       " 'duration': [12.0],\n",
       " 'rate': [0.1],\n",
       " 'down_payment': [0.0]}"
      ]
     },
     "execution_count": 22,
     "metadata": {},
     "output_type": "execute_result"
    }
   ],
   "source": [
    "j = line[3].strip().split(',')\n",
    "dict1 = {}\n",
    "list1 = []\n",
    "amount =[]\n",
    "duration = []\n",
    "rate =[]\n",
    "down_payment =[]\n",
    "headers = line[0].strip().split(',')\n",
    "amount.append(float(j[0]))\n",
    "duration.append(float(j[1]))\n",
    "rate.append(float(j[2]))\n",
    "down_payment.append(float(j[3]))   \n",
    "list1 = [amount,duration,rate,down_payment]\n",
    "for header,value in zip(header,list1):\n",
    "    dict1[header] = value\n",
    "\n",
    "    \n",
    "dict1"
   ]
  },
  {
   "cell_type": "code",
   "execution_count": 27,
   "metadata": {},
   "outputs": [
    {
     "data": {
      "text/plain": [
       "{'amount': [45230.0,\n",
       "  883000.0,\n",
       "  100000.0,\n",
       "  728400.0,\n",
       "  3637400.0,\n",
       "  82900.0,\n",
       "  316000.0,\n",
       "  15230.0,\n",
       "  991360.0,\n",
       "  323000.0,\n",
       "  528400.0,\n",
       "  8633400.0,\n",
       "  12900.0],\n",
       " 'duration': [48.0,\n",
       "  16.0,\n",
       "  12.0,\n",
       "  120.0,\n",
       "  240.0,\n",
       "  90.0,\n",
       "  16.0,\n",
       "  48.0,\n",
       "  99.0,\n",
       "  27.0,\n",
       "  120.0,\n",
       "  240.0,\n",
       "  90.0],\n",
       " 'rate': [0.07,\n",
       "  0.14,\n",
       "  0.1,\n",
       "  0.12,\n",
       "  0.06,\n",
       "  0.07,\n",
       "  0.13,\n",
       "  0.08,\n",
       "  0.08,\n",
       "  0.09,\n",
       "  0.11,\n",
       "  0.06,\n",
       "  0.08],\n",
       " 'down_payment': [4300.0,\n",
       "  0.0,\n",
       "  0.0,\n",
       "  100000.0,\n",
       "  0.0,\n",
       "  8900.0,\n",
       "  0.0,\n",
       "  4300.0,\n",
       "  0.0,\n",
       "  4720010000.0,\n",
       "  100000.0,\n",
       "  0.0,\n",
       "  8900.0]}"
      ]
     },
     "execution_count": 27,
     "metadata": {},
     "output_type": "execute_result"
    }
   ],
   "source": [
    "dict1 = {}\n",
    "headers = line[0].strip().split(',')\n",
    "amount =[]\n",
    "duration = []\n",
    "rate =[]\n",
    "down_payment =[]\n",
    "for i in range (1,len(line)):\n",
    "    j = line[i].strip().split(',')\n",
    "    try:\n",
    "        amount.append(float(j[0]))\n",
    "    except ValueError:\n",
    "        amount.append(0.0)\n",
    "    \n",
    "    try:    \n",
    "        duration.append(float(j[1]))\n",
    "    except ValueEarror:\n",
    "        duration.append(0.0)\n",
    "        \n",
    "    try:    \n",
    "        rate.append(float(j[2]))\n",
    "    except ValueEarror:\n",
    "        rate.append(0.0)\n",
    "        \n",
    "    try:\n",
    "        down_payment.append(float(j[3])) \n",
    "    except:\n",
    "        down_payment.append(0.0)\n",
    "    list1 = [amount,duration,rate,down_payment]\n",
    "    for header,value in zip(headers,list1):\n",
    "        dict1[header] = value\n",
    "    \n",
    "dict1  "
   ]
  },
  {
   "cell_type": "markdown",
   "metadata": {},
   "source": [
    "# Now this is a complete funtion:\n",
    "\n",
    "> it hendls messing values also and if you give `readlines()` as input it will give you a dict of where amount,duration are as key and it's values is in list."
   ]
  },
  {
   "cell_type": "markdown",
   "metadata": {},
   "source": [
    "### Example:\n",
    "\n",
    "{'amount': [828400.0, 4633400.0, 42900.0, 983000.0, 15230.0],\n",
    " 'duration': [120.0, 240.0, 90.0, 16.0, 48.0],\n",
    " 'rate': [0.11, 0.06, 0.08, 0.14, 0.07],\n",
    " 'down_payment': [100000.0, 0.0, 8900.0, 0.0, 4300.0]}"
   ]
  },
  {
   "cell_type": "code",
   "execution_count": 26,
   "metadata": {},
   "outputs": [
    {
     "data": {
      "text/plain": [
       "['amount', 'duration', 'rate', 'down_payment']"
      ]
     },
     "execution_count": 26,
     "metadata": {},
     "output_type": "execute_result"
    }
   ],
   "source": [
    "headers"
   ]
  },
  {
   "cell_type": "code",
   "execution_count": null,
   "metadata": {},
   "outputs": [],
   "source": []
  }
 ],
 "metadata": {
  "kernelspec": {
   "display_name": "Python 3",
   "language": "python",
   "name": "python3"
  },
  "language_info": {
   "codemirror_mode": {
    "name": "ipython",
    "version": 3
   },
   "file_extension": ".py",
   "mimetype": "text/x-python",
   "name": "python",
   "nbconvert_exporter": "python",
   "pygments_lexer": "ipython3",
   "version": "3.8.6"
  }
 },
 "nbformat": 4,
 "nbformat_minor": 4
}
